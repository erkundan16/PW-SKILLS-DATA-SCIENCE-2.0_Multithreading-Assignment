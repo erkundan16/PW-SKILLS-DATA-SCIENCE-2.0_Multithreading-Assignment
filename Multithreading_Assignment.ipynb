{
 "cells": [
  {
   "cell_type": "markdown",
   "id": "a8c4a275-88fc-4ebf-9e32-20ec483ef885",
   "metadata": {},
   "source": [
    "1. What is multithreading in python? hy is it used? Name the module used to handle threads in python"
   ]
  },
  {
   "cell_type": "markdown",
   "id": "9afb1979-092e-487d-b55b-1103fb5c4fab",
   "metadata": {},
   "source": [
    "Multithreading in Python: Multithreading is a concurrent execution model where multiple threads are used to execute multiple tasks within a single process. It is used to improve the performance of applications that perform multiple tasks concurrently. The threading module is used to handle threads in Python."
   ]
  },
  {
   "cell_type": "markdown",
   "id": "7cd6cb23-8fd0-434b-9340-65cd7e1ae3fa",
   "metadata": {},
   "source": [
    "2. Why threading module used? Write the use of the following functions:\n",
    "\n",
    "1. activeCount()\n",
    "\n",
    "2. currentThread()\n",
    "\n",
    "3. enumerate()\n"
   ]
  },
  {
   "cell_type": "markdown",
   "id": "1e590ef8-e727-49d6-bcd8-497a14329efe",
   "metadata": {},
   "source": [
    "Threading module:\n",
    "\n",
    "                activeCount():    Returns the number of thread objects currently alive.\n",
    "                currentThread():  Returns the current thread object.\n",
    "                enumerate():      Returns a list of all thread objects currently alive."
   ]
  },
  {
   "cell_type": "markdown",
   "id": "a00da343-37ba-4ce6-a683-3bf4b455eaaf",
   "metadata": {},
   "source": [
    "3. Explain the following functions:\n",
    "\n",
    "1. run()\n",
    "\n",
    "2. start()\n",
    "\n",
    "3. join()\n",
    "\n",
    "4. isAlive()\n",
    "\n"
   ]
  },
  {
   "cell_type": "markdown",
   "id": "f4291798-9aeb-47a9-bb74-97fd15d84c1a",
   "metadata": {},
   "source": [
    "Thread Functions:\n",
    "\n",
    "                 run():      Method representing the activity of the thread.\n",
    "                start():     Starts the thread's activity.\n",
    "                join():      Waits for the thread to complete its execution.\n",
    "                isAlive():   Returns whether the thread is alive."
   ]
  },
  {
   "cell_type": "markdown",
   "id": "9ee3e083-c442-44e0-bd22-f30187400afd",
   "metadata": {},
   "source": [
    "4. Write a python program to create two threads. Thread one must print the list of squares and thread two must print the list of cubes.\n"
   ]
  },
  {
   "cell_type": "code",
   "execution_count": 2,
   "id": "57e25270-eb77-4267-8f06-cfac7459fb89",
   "metadata": {},
   "outputs": [],
   "source": [
    "import threading\n",
    "import logging\n",
    "\n",
    "logging.basicConfig(level=logging.INFO, filename='threading.log', filemode='w',\n",
    "                    format='%(name)s - %(levelname)s - %(message)s')\n",
    "\n",
    "def print_squares():\n",
    "    try:\n",
    "        for i in range(1, 6):\n",
    "            logging.info(f\"Square of {i} is {i*i}\")\n",
    "    except Exception as e:\n",
    "        logging.exception(f\"An error occurred: {e}\")\n",
    "\n",
    "def print_cubes():\n",
    "    try:\n",
    "        for i in range(1, 6):\n",
    "            logging.info(f\"Cube of {i} is {i*i*i}\")\n",
    "    except Exception as e:\n",
    "        logging.exception(f\"An error occurred: {e}\")\n",
    "\n",
    "if __name__ == '__main__':\n",
    "    try:\n",
    "        t1 = threading.Thread(target=print_squares)\n",
    "        t2 = threading.Thread(target=print_cubes)\n",
    "\n",
    "        t1.start()\n",
    "        t2.start()\n",
    "\n",
    "        t1.join()\n",
    "        t2.join()\n",
    "    except Exception as e:\n",
    "        logging.exception(f\"An error occurred: {e}\")\n"
   ]
  },
  {
   "cell_type": "markdown",
   "id": "b019235e-f22a-4474-841b-3e50af8eca35",
   "metadata": {},
   "source": [
    "5. State advantages and disadvantages of multithreading."
   ]
  },
  {
   "cell_type": "code",
   "execution_count": null,
   "id": "88b821b1-61e3-46cc-8ad0-f3b36667785b",
   "metadata": {},
   "outputs": [],
   "source": [
    "Advantages and disadvantages of Multithreading:\n",
    "\n",
    "Advantages:    Improved program performance, efficient resource utilization, responsiveness in I/O-bound tasks.\n",
    "Disadvantages: Difficulty in debugging, potential data inconsistency, increased complexity, and overhead due to context switching."
   ]
  },
  {
   "cell_type": "markdown",
   "id": "90074687-0111-43a5-aca9-c1d90ca41bcc",
   "metadata": {},
   "source": [
    "6. Explain deadlocks and race conditions."
   ]
  },
  {
   "cell_type": "markdown",
   "id": "60781de9-b94c-49f9-850b-02b0b10c28af",
   "metadata": {},
   "source": [
    "\n",
    "Deadlocks: A deadlock is a state where two or more threads are blocked forever, each waiting for the other to release a resource.\n",
    "\n",
    "\n",
    "Race Conditions: Race conditions occur when multiple threads access and manipulate shared data concurrently, leading to unexpected results due to non-deterministic timing."
   ]
  },
  {
   "cell_type": "code",
   "execution_count": null,
   "id": "661c1426-614f-41ea-9824-c22accccdba4",
   "metadata": {},
   "outputs": [],
   "source": []
  },
  {
   "cell_type": "code",
   "execution_count": null,
   "id": "ac1e0bf2-645e-4016-a713-4cd020748105",
   "metadata": {},
   "outputs": [],
   "source": []
  },
  {
   "cell_type": "code",
   "execution_count": null,
   "id": "52a71fb6-41ec-4146-8dc4-172ebe2d753d",
   "metadata": {},
   "outputs": [],
   "source": []
  },
  {
   "cell_type": "code",
   "execution_count": null,
   "id": "426de1ee-9d3c-4bcc-a5c0-7edc76c4f37c",
   "metadata": {},
   "outputs": [],
   "source": []
  }
 ],
 "metadata": {
  "kernelspec": {
   "display_name": "Python 3 (ipykernel)",
   "language": "python",
   "name": "python3"
  },
  "language_info": {
   "codemirror_mode": {
    "name": "ipython",
    "version": 3
   },
   "file_extension": ".py",
   "mimetype": "text/x-python",
   "name": "python",
   "nbconvert_exporter": "python",
   "pygments_lexer": "ipython3",
   "version": "3.10.8"
  }
 },
 "nbformat": 4,
 "nbformat_minor": 5
}
